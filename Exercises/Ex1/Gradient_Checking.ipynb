{
 "cells": [
  {
   "cell_type": "code",
   "execution_count": 9,
   "metadata": {
    "collapsed": false
   },
   "outputs": [],
   "source": [
    "%matplotlib inline"
   ]
  },
  {
   "cell_type": "code",
   "execution_count": 10,
   "metadata": {
    "collapsed": false
   },
   "outputs": [],
   "source": [
    "import matplotlib.pyplot as plt\n",
    "import numpy as np\n",
    "import scipy.optimize"
   ]
  },
  {
   "cell_type": "markdown",
   "metadata": {},
   "source": [
    "## Preparation (Based on Linear Regression)"
   ]
  },
  {
   "cell_type": "markdown",
   "metadata": {},
   "source": [
    "Prepare train and test data."
   ]
  },
  {
   "cell_type": "code",
   "execution_count": 20,
   "metadata": {
    "collapsed": false
   },
   "outputs": [
    {
     "name": "stdout",
     "output_type": "stream",
     "text": [
      "(14,)\n"
     ]
    }
   ],
   "source": [
    "data_original = np.loadtxt('data/housing.data')\n",
    "data = np.insert(data_original, 0, 1, axis=1)\n",
    "np.random.shuffle(data)\n",
    "train_X = data[:400, :-1]\n",
    "train_y = data[:400, -1]\n",
    "\n",
    "m, n = train_X.shape\n",
    "theta = np.random.rand(n)\n"
   ]
  },
  {
   "cell_type": "markdown",
   "metadata": {},
   "source": [
    "Define some necessary functions."
   ]
  },
  {
   "cell_type": "code",
   "execution_count": 12,
   "metadata": {
    "collapsed": true
   },
   "outputs": [],
   "source": [
    "def cost_function(theta, X, y): \n",
    "    squared_errors = (X.dot(theta) - y) ** 2\n",
    "    J = 0.5 * squared_errors.sum()\n",
    "    return J\n",
    "\n",
    "def gradient(theta, X, y):\n",
    "    errors = X.dot(theta) - y\n",
    "    return errors.dot(X)"
   ]
  },
  {
   "cell_type": "markdown",
   "metadata": {},
   "source": [
    "## Gradient Checking"
   ]
  },
  {
   "cell_type": "markdown",
   "metadata": {},
   "source": [
    "Define \"step size\" (don't set it too low to avoid numerical precision issues)."
   ]
  },
  {
   "cell_type": "code",
   "execution_count": 13,
   "metadata": {
    "collapsed": false
   },
   "outputs": [],
   "source": [
    "epsilon = 1e-4"
   ]
  },
  {
   "cell_type": "markdown",
   "metadata": {},
   "source": [
    "Prepare theta step values (making use of numpy broadcasting)."
   ]
  },
  {
   "cell_type": "code",
   "execution_count": 23,
   "metadata": {
    "collapsed": false
   },
   "outputs": [],
   "source": [
    "theta_plus = theta + epsilon * np.identity(len(theta))\n",
    "theta_minus = theta - epsilon * np.identity(len(theta))\n"
   ]
  },
  {
   "cell_type": "markdown",
   "metadata": {},
   "source": [
    "Compute diffs between theta's gradient as mathematically defined and the gradient as defined by our function above."
   ]
  },
  {
   "cell_type": "code",
   "execution_count": 17,
   "metadata": {
    "collapsed": false
   },
   "outputs": [],
   "source": [
    "diffs = np.empty_like(theta)\n",
    "for i in range(len(theta)):\n",
    "    gradient_def = (\n",
    "        (cost_function(theta_plus[i], train_X, train_y) - cost_function(theta_minus[i], train_X, train_y)) /\n",
    "        (2 * epsilon)\n",
    "        )\n",
    "    gradient_lin_reg = gradient(theta, train_X, train_y)[i]\n",
    "    diffs[i] = np.absolute(gradient_def - gradient_lin_reg)"
   ]
  },
  {
   "cell_type": "code",
   "execution_count": 18,
   "metadata": {
    "collapsed": false
   },
   "outputs": [
    {
     "data": {
      "text/plain": [
       "array([  7.67482561e-06,   2.36367341e-05,   3.26307490e-05,\n",
       "         4.27542254e-05,   2.29503712e-06,   3.41320992e-05,\n",
       "         3.94347589e-05,   2.87033617e-06,   1.32125570e-05,\n",
       "         3.99977434e-05,   1.50203705e-05,   2.42795795e-06,\n",
       "         6.56396151e-05,   1.25207007e-05])"
      ]
     },
     "execution_count": 18,
     "metadata": {},
     "output_type": "execute_result"
    }
   ],
   "source": [
    "diffs"
   ]
  },
  {
   "cell_type": "markdown",
   "metadata": {},
   "source": [
    "**Lookin' good!** The smaller the values, the better.<br>\n",
    "(Any value significantly larger than 1e-4 indicates a problem.)"
   ]
  },
  {
   "cell_type": "code",
   "execution_count": 19,
   "metadata": {
    "collapsed": false
   },
   "outputs": [],
   "source": [
    "assert all(np.less(diffs, 1e-4))"
   ]
  },
  {
   "cell_type": "markdown",
   "metadata": {},
   "source": [
    "Quality check: passed with distinction."
   ]
  }
 ],
 "metadata": {
  "kernelspec": {
   "display_name": "Python 2",
   "language": "python",
   "name": "python2"
  },
  "language_info": {
   "codemirror_mode": {
    "name": "ipython",
    "version": 2
   },
   "file_extension": ".py",
   "mimetype": "text/x-python",
   "name": "python",
   "nbconvert_exporter": "python",
   "pygments_lexer": "ipython2",
   "version": "2.7.10"
  }
 },
 "nbformat": 4,
 "nbformat_minor": 0
}
